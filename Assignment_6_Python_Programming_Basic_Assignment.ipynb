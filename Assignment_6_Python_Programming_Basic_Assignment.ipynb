{
 "cells": [
  {
   "cell_type": "markdown",
   "metadata": {},
   "source": [
    "# Assignment"
   ]
  },
  {
   "cell_type": "code",
   "execution_count": 5,
   "metadata": {},
   "outputs": [
    {
     "name": "stdout",
     "output_type": "stream",
     "text": [
      "4\n",
      "3\n"
     ]
    }
   ],
   "source": [
    "# Q1\n",
    "import logging as lg\n",
    "lg.basicConfig(filename=\"error.log\",level=lg.INFO)\n",
    "def fib(n):\n",
    "    try:\n",
    "        if n==0 or n==1:\n",
    "            return n\n",
    "        else:\n",
    "            return fib(n-1)+fib(n-2)\n",
    "    except Exception as e:\n",
    "        lg.info(e)\n",
    "\n",
    "try:\n",
    "    n=int(input())\n",
    "    print(fib(n))\n",
    "except Exception as e:\n",
    "    lg.info(e)"
   ]
  },
  {
   "cell_type": "code",
   "execution_count": 7,
   "metadata": {},
   "outputs": [
    {
     "name": "stdout",
     "output_type": "stream",
     "text": [
      "5\n",
      "120\n"
     ]
    }
   ],
   "source": [
    "# Q2\n",
    "import logging as lg\n",
    "lg.basicConfig(filename=\"error.log\",level=lg.INFO)\n",
    "def fact(n):\n",
    "    try:\n",
    "        if n<=1:\n",
    "            return n\n",
    "        else:\n",
    "            return n*fact(n-1)\n",
    "    except Exception as e:\n",
    "        lg.info(e)\n",
    "\n",
    "try:\n",
    "    n=int(input())\n",
    "    print(fact(n))\n",
    "except Exception as e:\n",
    "    lg.info(e)"
   ]
  },
  {
   "cell_type": "code",
   "execution_count": 2,
   "metadata": {},
   "outputs": [
    {
     "name": "stdout",
     "output_type": "stream",
     "text": [
      "Input your height in Feet: 6\n",
      "Input your weight in Kilogram: 88\n",
      "Your body mass index is: 2.44 \n"
     ]
    }
   ],
   "source": [
    "# Q3\n",
    "height = float(input(\"Input your height in Feet: \"))\n",
    "weight = float(input(\"Input your weight in Kilogram: \"))\n",
    "print(\"Your body mass index is: {} \".format(round(weight / (height * height), 2)))"
   ]
  },
  {
   "cell_type": "code",
   "execution_count": 4,
   "metadata": {},
   "outputs": [
    {
     "name": "stdout",
     "output_type": "stream",
     "text": [
      "25\n",
      "3.2188758248682006\n"
     ]
    }
   ],
   "source": [
    "# Q4\n",
    "import math\n",
    "n=int(input())\n",
    "print(math.log(n))"
   ]
  },
  {
   "cell_type": "code",
   "execution_count": 11,
   "metadata": {},
   "outputs": [
    {
     "name": "stdout",
     "output_type": "stream",
     "text": [
      "2\n",
      "36\n"
     ]
    }
   ],
   "source": [
    "# Q5\n",
    "import math\n",
    "def sum_first_n_natural_num(n):\n",
    "    return n*(n+1)//2\n",
    "\n",
    "\n",
    "try:\n",
    "    n=int(input())\n",
    "    cube = \n",
    "    print(sum_first_n_natural_num(n**3))\n",
    "except Exception as e:\n",
    "    lg.info(e)"
   ]
  },
  {
   "cell_type": "code",
   "execution_count": 10,
   "metadata": {},
   "outputs": [
    {
     "data": {
      "text/plain": [
       "27"
      ]
     },
     "execution_count": 10,
     "metadata": {},
     "output_type": "execute_result"
    }
   ],
   "source": [
    "3**3"
   ]
  },
  {
   "cell_type": "code",
   "execution_count": null,
   "metadata": {},
   "outputs": [],
   "source": []
  }
 ],
 "metadata": {
  "kernelspec": {
   "display_name": "Python 3",
   "language": "python",
   "name": "python3"
  },
  "language_info": {
   "codemirror_mode": {
    "name": "ipython",
    "version": 3
   },
   "file_extension": ".py",
   "mimetype": "text/x-python",
   "name": "python",
   "nbconvert_exporter": "python",
   "pygments_lexer": "ipython3",
   "version": "3.7.6"
  }
 },
 "nbformat": 4,
 "nbformat_minor": 4
}
