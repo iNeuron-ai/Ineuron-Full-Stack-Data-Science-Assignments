{
 "cells": [
  {
   "cell_type": "code",
   "execution_count": 22,
   "metadata": {},
   "outputs": [
    {
     "name": "stdout",
     "output_type": "stream",
     "text": [
      "Enter comma seperated value: 10,20,30\n",
      "5 8 10 "
     ]
    }
   ],
   "source": [
    "# Q1\n",
    "import math\n",
    "c=50\n",
    "h=30\n",
    "d = input(\"Enter comma seperated value: \")\n",
    "mylist = d.split(\",\")\n",
    "for i in mylist:\n",
    "    myd = int(i)\n",
    "    res = math.sqrt((2*c*myd)/h)\n",
    "    print(int(res) , end=\" \")"
   ]
  },
  {
   "cell_type": "code",
   "execution_count": 21,
   "metadata": {},
   "outputs": [
    {
     "name": "stdout",
     "output_type": "stream",
     "text": [
      "Enter Row: 3\n",
      "Enter Column: 5\n",
      "0 0 0 0 0 \n",
      "0 1 2 3 4 \n",
      "0 2 4 6 8 \n"
     ]
    }
   ],
   "source": [
    "#Q2\n",
    "row = int(input(\"Enter Row: \"))\n",
    "column = int(input(\"Enter Column: \"))\n",
    "for i in range(row):\n",
    "    for j in range(column):\n",
    "        print(i*j , end=\" \")\n",
    "    print()"
   ]
  },
  {
   "cell_type": "code",
   "execution_count": 3,
   "metadata": {},
   "outputs": [
    {
     "name": "stdout",
     "output_type": "stream",
     "text": [
      "Enter comma seperated string: without,hello,bag,world\n",
      "bag hello without world "
     ]
    }
   ],
   "source": [
    "# Q3\n",
    "word = input(\"Enter comma seperated string: \")\n",
    "mylist =  word.split(\",\")\n",
    "mylist.sort()\n",
    "for i in mylist:\n",
    "    print(i,end=\" \")"
   ]
  },
  {
   "cell_type": "code",
   "execution_count": 6,
   "metadata": {},
   "outputs": [
    {
     "name": "stdout",
     "output_type": "stream",
     "text": [
      "Enter space seperated string: hello world and practice makes perfect and hello world again\n",
      "again and hello makes perfect practice world "
     ]
    }
   ],
   "source": [
    "# Q4\n",
    "word = input(\"Enter space seperated string: \")\n",
    "mylist =  word.split(\" \")\n",
    "final_list = list(set(mylist))\n",
    "final_list.sort()\n",
    "for i in final_list:\n",
    "    print(i,end=\" \")"
   ]
  },
  {
   "cell_type": "code",
   "execution_count": 10,
   "metadata": {},
   "outputs": [
    {
     "name": "stdout",
     "output_type": "stream",
     "text": [
      "Enter space seperated string: hello world! 123\n",
      "Letter:10\n",
      "Digit:3\n"
     ]
    }
   ],
   "source": [
    "# Q5\n",
    "word = input(\"Enter space seperated string: \")\n",
    "letter=0\n",
    "digit = 0\n",
    "for i in range(len(word)):\n",
    "    if(word[i].isalpha()):\n",
    "        letter+=1\n",
    "    elif(word[i].isdigit()):\n",
    "        digit+=1\n",
    "print(\"Letter:{}\\nDigit:{}\".format(letter,digit))"
   ]
  },
  {
   "cell_type": "code",
   "execution_count": 73,
   "metadata": {},
   "outputs": [
    {
     "name": "stdout",
     "output_type": "stream",
     "text": [
      "enter comma seperated password: ABd1234@1,a F1#,2w3E*,2We3345\n",
      "ABd1234@1\n"
     ]
    }
   ],
   "source": [
    "# Q6\n",
    "# 1. At least 1 letter between [a-z]\n",
    "# 2. At least 1 number between [0-9]\n",
    "# 1. At least 1 letter between [A-Z]\n",
    "# 3. At least 1 character from [$#@]\n",
    "# 4. Minimum length of transaction password: 6\n",
    "# 5. Maximum length of transaction password: 12\n",
    "word = input(\"enter comma seperated password: \")\n",
    "myList = word.split(\",\")\n",
    "for i in range(len(myList)):\n",
    "        l, u, s, d = 0, 0, 0, 0\n",
    "        if(len(myList[i])>=6 and len(myList[i])<=12):\n",
    "            for j in myList[i]:            \n",
    "                if(j.islower()):\n",
    "                    l+=1\n",
    "                if (j.isupper()):\n",
    "                    u+=1            \n",
    "                if (j.isdigit()):\n",
    "                    d+=1            \n",
    "                if(j=='@'or j=='$' or j=='_'):\n",
    "                    s+=1    \n",
    "            if(l>=1 and u>=1 and d>=1 and s>=1):\n",
    "                print(myList[i])   "
   ]
  },
  {
   "cell_type": "code",
   "execution_count": null,
   "metadata": {},
   "outputs": [],
   "source": []
  }
 ],
 "metadata": {
  "kernelspec": {
   "display_name": "Python 3",
   "language": "python",
   "name": "python3"
  },
  "language_info": {
   "codemirror_mode": {
    "name": "ipython",
    "version": 3
   },
   "file_extension": ".py",
   "mimetype": "text/x-python",
   "name": "python",
   "nbconvert_exporter": "python",
   "pygments_lexer": "ipython3",
   "version": "3.7.6"
  }
 },
 "nbformat": 4,
 "nbformat_minor": 4
}
