{
 "cells": [
  {
   "cell_type": "code",
   "execution_count": 2,
   "id": "e58c1e41",
   "metadata": {},
   "outputs": [
    {
     "name": "stdout",
     "output_type": "stream",
     "text": [
      "Enter a: 1\n",
      "Enter b: 10\n",
      "Enter c: 2\n",
      "30\n"
     ]
    }
   ],
   "source": [
    "# Q1\n",
    "def fun(a,b,c):\n",
    "    sum=0\n",
    "    for i in range(a,b+1):\n",
    "        if i%c==0:\n",
    "            sum+=i\n",
    "    return sum\n",
    "a=int(input(\"Enter a: \"))\n",
    "b=int(input(\"Enter b: \"))\n",
    "c=int(input(\"Enter c: \"))\n",
    "print(fun(a,b,c))"
   ]
  },
  {
   "cell_type": "code",
   "execution_count": 16,
   "id": "f02fd50f",
   "metadata": {},
   "outputs": [
    {
     "name": "stdout",
     "output_type": "stream",
     "text": [
      "the aardvark\n",
      "#\n",
      "th# ##rdv#rk\n"
     ]
    }
   ],
   "source": [
    "#Q3\n",
    "def replace_vowels(s , symbol):\n",
    "    for i in s:\n",
    "        if(i=='a' or i=='e' or i=='i' or i=='o' or i=='u' or i=='A' or i=='E' or i=='I' or i=='O' or i=='U'):\n",
    "            s = s.replace(i , symbol)\n",
    "    return(s)\n",
    "            \n",
    "            \n",
    "        \n",
    "        \n",
    "s = input()\n",
    "symbol = input()\n",
    "print(replace_vowels(s , symbol))"
   ]
  },
  {
   "cell_type": "code",
   "execution_count": 18,
   "id": "249e3f6a",
   "metadata": {},
   "outputs": [
    {
     "name": "stdout",
     "output_type": "stream",
     "text": [
      "3\n",
      "6\n"
     ]
    }
   ],
   "source": [
    "# Q4\n",
    "def fact(n):\n",
    "    if n==0 or n==1:\n",
    "        return 1\n",
    "    else:\n",
    "        return n*fact(n-1)\n",
    "n = int(input())\n",
    "print(fact(n))"
   ]
  },
  {
   "cell_type": "code",
   "execution_count": 26,
   "id": "948fc994",
   "metadata": {},
   "outputs": [
    {
     "name": "stdout",
     "output_type": "stream",
     "text": [
      "abcde\n",
      "bcdef\n",
      "5\n"
     ]
    }
   ],
   "source": [
    "# Q5\n",
    "def hamming_distance(s1 , s2):\n",
    "    str1 =list(s1)\n",
    "    str2 = list(s2)\n",
    "    count = 0\n",
    "    for i in range(len(str1)):\n",
    "        if(str1[i]!=str2[i]):\n",
    "            count+=1\n",
    "    return count\n",
    "\n",
    "str1 = input()\n",
    "str2 = input()\n",
    "print(hamming_distance(str1 , str2))"
   ]
  },
  {
   "cell_type": "code",
   "execution_count": null,
   "id": "29beac13",
   "metadata": {},
   "outputs": [],
   "source": []
  }
 ],
 "metadata": {
  "kernelspec": {
   "display_name": "Python 3",
   "language": "python",
   "name": "python3"
  },
  "language_info": {
   "codemirror_mode": {
    "name": "ipython",
    "version": 3
   },
   "file_extension": ".py",
   "mimetype": "text/x-python",
   "name": "python",
   "nbconvert_exporter": "python",
   "pygments_lexer": "ipython3",
   "version": "3.8.8"
  }
 },
 "nbformat": 4,
 "nbformat_minor": 5
}
