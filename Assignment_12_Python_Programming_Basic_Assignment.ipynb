{
 "cells": [
  {
   "cell_type": "code",
   "execution_count": 13,
   "metadata": {},
   "outputs": [
    {
     "name": "stdout",
     "output_type": "stream",
     "text": [
      "Umang\n",
      "18MCA0016\n",
      "MCA\n",
      "JAIPUR\n"
     ]
    }
   ],
   "source": [
    "# Q1\n",
    "mydict = {1:\"Umang\",2:\"18MCA0016\",3:\"MCA\",4:\"JAIPUR\"}\n",
    "for key,values in mydict.items():\n",
    "    print(values)"
   ]
  },
  {
   "cell_type": "code",
   "execution_count": 15,
   "metadata": {},
   "outputs": [
    {
     "data": {
      "text/plain": [
       "10"
      ]
     },
     "execution_count": 15,
     "metadata": {},
     "output_type": "execute_result"
    }
   ],
   "source": [
    "# Q2\n",
    "mydict = {\"A\":1,\"B\":2,\"C\":3,\"D\":4}\n",
    "sum=0\n",
    "for key,values in mydict.items():\n",
    "    sum+=values\n",
    "sum"
   ]
  },
  {
   "cell_type": "code",
   "execution_count": 19,
   "metadata": {},
   "outputs": [
    {
     "name": "stdout",
     "output_type": "stream",
     "text": [
      "{'A': 1, 'B': 2, 'C': 3, 'D': 4, 1: 'Umang', 2: '18MCA0016', 3: 'MCA', 4: 'JAIPUR'}\n"
     ]
    }
   ],
   "source": [
    "# Q3\n",
    "\n",
    "def Merge(mydict1 , mydict2):\n",
    "    return(mydict1.update(mydict2))\n",
    "mydict1 = {\"A\":1,\"B\":2,\"C\":3,\"D\":4}\n",
    "mydict2 = {1:\"Umang\",2:\"18MCA0016\",3:\"MCA\",4:\"JAIPUR\"}\n",
    "Merge(mydict1,mydict2)\n",
    "print(mydict1)"
   ]
  },
  {
   "cell_type": "code",
   "execution_count": 24,
   "metadata": {},
   "outputs": [
    {
     "data": {
      "text/plain": [
       "{1: 'Jan', 2: 'Feb', 3: 'March', 4: 'Apr'}"
      ]
     },
     "execution_count": 24,
     "metadata": {},
     "output_type": "execute_result"
    }
   ],
   "source": [
    "# Q4\n",
    "my_dict = {'month_num' : [1, 2, 3, 4], 'name_of_month' : ['Jan', 'Feb', 'March', 'Apr']}\n",
    "myres = zip(my_dict['month_num'] , my_dict['name_of_month'])\n",
    "dict(myres)"
   ]
  },
  {
   "cell_type": "code",
   "execution_count": 5,
   "metadata": {},
   "outputs": [
    {
     "data": {
      "text/plain": [
       "OrderedDict([('Manpreet', '4'), ('Umang', '1'), ('Akshat', '2')])"
      ]
     },
     "execution_count": 5,
     "metadata": {},
     "output_type": "execute_result"
    }
   ],
   "source": [
    "# Q5\n",
    "from collections import OrderedDict\n",
    "mydict = OrderedDict([('Umang','1') , ('Akshat','2')])\n",
    "mydict.update({'Manpreet':'4'})\n",
    "mydict.move_to_end('Manpreet', last = False) #For Inserting key Manpreet @ first\n",
    "mydict"
   ]
  },
  {
   "cell_type": "code",
   "execution_count": 14,
   "metadata": {},
   "outputs": [
    {
     "name": "stdout",
     "output_type": "stream",
     "text": [
      "true\n"
     ]
    }
   ],
   "source": [
    "# Q6\n",
    "from collections import OrderedDict \n",
    "def checkOrder(input, pattern): \n",
    "    dict = OrderedDict.fromkeys(input) \n",
    "    ptrlen = 0\n",
    "    for key,value in dict.items(): \n",
    "        if (key == pattern[ptrlen]): \n",
    "            ptrlen = ptrlen + 1\n",
    "        if (ptrlen == (len(pattern))): \n",
    "            return 'true'\n",
    "    return 'false'\n",
    "  \n",
    "# Driver program \n",
    "if __name__ == \"__main__\": \n",
    "    input = 'engineers'\n",
    "    pattern = 'egr'\n",
    "    print (checkOrder(input,pattern)) "
   ]
  },
  {
   "cell_type": "code",
   "execution_count": 17,
   "metadata": {},
   "outputs": [
    {
     "name": "stdout",
     "output_type": "stream",
     "text": [
      "Sorted Keys are\n",
      "A B C F "
     ]
    }
   ],
   "source": [
    "#Q7\n",
    "def dictionairy(): \n",
    "     mydict ={1:\"A\",10:\"B\",3:\"C\",4:\"F\"}    \n",
    "     print (\"Sorted Keys are\")\n",
    "     for i in sorted(mydict.values()) : \n",
    "         print(i, end = \" \")\n",
    "dictionairy()          "
   ]
  },
  {
   "cell_type": "code",
   "execution_count": null,
   "metadata": {},
   "outputs": [],
   "source": []
  }
 ],
 "metadata": {
  "kernelspec": {
   "display_name": "Python 3",
   "language": "python",
   "name": "python3"
  },
  "language_info": {
   "codemirror_mode": {
    "name": "ipython",
    "version": 3
   },
   "file_extension": ".py",
   "mimetype": "text/x-python",
   "name": "python",
   "nbconvert_exporter": "python",
   "pygments_lexer": "ipython3",
   "version": "3.7.6"
  }
 },
 "nbformat": 4,
 "nbformat_minor": 4
}
