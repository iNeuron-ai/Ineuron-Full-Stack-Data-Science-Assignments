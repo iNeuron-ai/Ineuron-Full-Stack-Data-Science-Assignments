{
 "cells": [
  {
   "cell_type": "markdown",
   "metadata": {},
   "source": [
    "# Assignment"
   ]
  },
  {
   "cell_type": "code",
   "execution_count": 24,
   "metadata": {},
   "outputs": [
    {
     "name": "stdout",
     "output_type": "stream",
     "text": [
      "Enter the number: 5\n",
      "Factorial of 5 is 120\n"
     ]
    }
   ],
   "source": [
    "# Q1\n",
    "import logging as lg\n",
    "lg.basicConfig(filename='error.log',level=lg.INFO)\n",
    "class fact:\n",
    "    def __init__(self,n):\n",
    "        self.n=n\n",
    "        \n",
    "    def factorial(self):\n",
    "        try:\n",
    "            res=1\n",
    "            for i in range(1,self.n+1):\n",
    "                res*=i\n",
    "            return res\n",
    "        except Exception as e:\n",
    "            lg.info(str(e))\n",
    "            \n",
    "    def __str__(self):\n",
    "        return \"Factorial class created\"\n",
    "try:\n",
    "    num = int(input(\"Enter the number: \"))\n",
    "    n=fact(num)\n",
    "    print(\"Factorial of {} is {}\".format(num,n.factorial()))\n",
    "except Exception as e:\n",
    "    lg.info(str(e))"
   ]
  },
  {
   "cell_type": "code",
   "execution_count": 31,
   "metadata": {},
   "outputs": [
    {
     "name": "stdout",
     "output_type": "stream",
     "text": [
      "Enter the number: 11\n",
      "11\n",
      "22\n",
      "33\n",
      "44\n",
      "55\n",
      "66\n",
      "77\n",
      "88\n",
      "99\n",
      "110\n"
     ]
    }
   ],
   "source": [
    "# Q2\n",
    "import logging as lg\n",
    "lg.basicConfig(filename='error.log',level=lg.INFO)\n",
    "class multiplication_table:\n",
    "    def __init__(self,n):\n",
    "        self.n=n\n",
    "    def myFun(self):\n",
    "        try:\n",
    "            for i in range(1,11):\n",
    "                print(i*self.n)\n",
    "        except Exception as e:\n",
    "            lg.info(str(e))\n",
    "    def __str__(self):\n",
    "        return \"Multiplication Table class created\"\n",
    "try:\n",
    "    num = int(input(\"Enter the number: \"))\n",
    "    n=multiplication_table(num)\n",
    "    n.myFun()\n",
    "except Exception as e:\n",
    "    lg.info(str(e))"
   ]
  },
  {
   "cell_type": "code",
   "execution_count": 36,
   "metadata": {},
   "outputs": [
    {
     "name": "stdout",
     "output_type": "stream",
     "text": [
      "Enter the number: 10\n",
      "0 1 1 2 3 5 8 13 21 34 "
     ]
    }
   ],
   "source": [
    "# Q3\n",
    "import logging as lg\n",
    "lg.basicConfig(filename='error.log',level=lg.INFO)\n",
    "class fib:\n",
    "    def __init__(self,n):\n",
    "        self.n=n\n",
    "        \n",
    "    def fibonacci(self):\n",
    "        a=0\n",
    "        b=1\n",
    "        for i in range(self.n):\n",
    "            print(a,end=\" \")\n",
    "            a,b=b+a,a\n",
    "    \n",
    "    def __str__(self):\n",
    "        return \"Fib class created\"\n",
    "try:\n",
    "    num = int(input(\"Enter the number: \"))\n",
    "    n=fib(num)\n",
    "    n.fibonacci()\n",
    "except Exception as e:\n",
    "    lg.info(str(e))   "
   ]
  },
  {
   "cell_type": "code",
   "execution_count": 45,
   "metadata": {},
   "outputs": [
    {
     "name": "stdout",
     "output_type": "stream",
     "text": [
      "Enter the number: 153\n",
      "Armstrong Number\n"
     ]
    }
   ],
   "source": [
    "# Q4\n",
    "import logging as lg\n",
    "lg.basicConfig(filename='error.log',level=lg.INFO)\n",
    "\n",
    "class Armstrong:\n",
    "    def __init__(self,n):\n",
    "        self.n=n\n",
    "        \n",
    "    def main_fun(self):\n",
    "        try:\n",
    "            temp=self.n\n",
    "            my_sum = 0\n",
    "            while temp > 0:\n",
    "                digit = temp % 10\n",
    "                my_sum += digit ** 3\n",
    "                temp //= 10\n",
    "            if self.n==my_sum:\n",
    "                return \"Armstrong Number\"\n",
    "            else:\n",
    "                return \"Not Armstrong Number\" \n",
    "        except Exception as e:\n",
    "            lg.info(e)\n",
    "    def __str__(self):\n",
    "        return \"Armstrong class created\"\n",
    "\n",
    "try:\n",
    "    num = int(input(\"Enter the number: \"))\n",
    "    n=Armstrong(num)\n",
    "    print(n.main_fun())\n",
    "except Exception as e:\n",
    "    lg.info(str(e))  "
   ]
  },
  {
   "cell_type": "code",
   "execution_count": 49,
   "metadata": {},
   "outputs": [
    {
     "name": "stdout",
     "output_type": "stream",
     "text": [
      "Enter Lower Range: 1\n",
      "Enter Upper Range: 200\n",
      "1\n",
      "153\n"
     ]
    }
   ],
   "source": [
    "# Q5\n",
    "import logging as lg\n",
    "lg.basicConfig(filename='error.log',level=lg.INFO)\n",
    "\n",
    "class Armstrong:\n",
    "    def __init__(self,lower_range,upper_range):\n",
    "        self.n=n\n",
    "        self.lower_range=lower_range\n",
    "        self.upper_range=upper_range\n",
    "        \n",
    "    def main_fun(self):\n",
    "        try:\n",
    "            for i in range(self.lower_range , self.upper_range+1):\n",
    "                temp=i\n",
    "                my_sum = 0\n",
    "                while temp > 0:\n",
    "                    digit = temp % 10\n",
    "                    my_sum += digit ** 3\n",
    "                    temp //= 10\n",
    "                if i==my_sum:\n",
    "                    print(i)\n",
    "        except Exception as e:\n",
    "            lg.info(e)\n",
    "            \n",
    "    def __str__(self):\n",
    "        return \"Armstrong class created\"\n",
    "\n",
    "try:\n",
    "    lr = int(input(\"Enter Lower Range: \"))\n",
    "    ur =  int(input(\"Enter Upper Range: \"))\n",
    "    n=Armstrong(lr,ur)\n",
    "    n.main_fun()\n",
    "except Exception as e:\n",
    "    lg.info(str(e))"
   ]
  },
  {
   "cell_type": "code",
   "execution_count": 54,
   "metadata": {},
   "outputs": [
    {
     "name": "stdout",
     "output_type": "stream",
     "text": [
      "Enter the number: 5\n",
      "15\n"
     ]
    }
   ],
   "source": [
    "# Q6\n",
    "import logging as lg\n",
    "lg.basicConfig(filename='error.log',level=lg.INFO)\n",
    "class sum_natural_num:\n",
    "    def __init__(self,n):\n",
    "        self.n=n\n",
    "    def main_fun(self):\n",
    "        try:\n",
    "            print(self.n*(self.n+1)//2)\n",
    "        except Exception as e:\n",
    "            lg.info(e)\n",
    "    def __str__(self):\n",
    "        return \"sum_natural_num class created\"\n",
    "try:\n",
    "    num = int(input(\"Enter the number: \")) \n",
    "    n=sum_natural_num(num)\n",
    "    n.main_fun()\n",
    "except Exception as e:\n",
    "    lg.info(str(e))"
   ]
  }
 ],
 "metadata": {
  "kernelspec": {
   "display_name": "Python 3",
   "language": "python",
   "name": "python3"
  },
  "language_info": {
   "codemirror_mode": {
    "name": "ipython",
    "version": 3
   },
   "file_extension": ".py",
   "mimetype": "text/x-python",
   "name": "python",
   "nbconvert_exporter": "python",
   "pygments_lexer": "ipython3",
   "version": "3.7.6"
  }
 },
 "nbformat": 4,
 "nbformat_minor": 4
}
