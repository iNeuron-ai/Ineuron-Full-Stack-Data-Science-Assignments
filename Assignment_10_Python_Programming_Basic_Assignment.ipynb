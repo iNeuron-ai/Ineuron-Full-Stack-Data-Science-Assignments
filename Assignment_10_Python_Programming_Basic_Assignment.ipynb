{
 "cells": [
  {
   "cell_type": "markdown",
   "metadata": {},
   "source": [
    "# Assignment"
   ]
  },
  {
   "cell_type": "code",
   "execution_count": 6,
   "metadata": {},
   "outputs": [
    {
     "name": "stdout",
     "output_type": "stream",
     "text": [
      "Enter Number of elements: 5\n",
      "Enter Number1\n",
      "Enter Number2\n",
      "Enter Number3\n",
      "Enter Number4\n",
      "Enter Number5\n",
      "15\n"
     ]
    }
   ],
   "source": [
    "# Q1\n",
    "import logging as lg\n",
    "lg.basicConfig(filename='error.log' , level=lg.INFO)\n",
    "class sum_elements:\n",
    "        def __init__(self,n):\n",
    "            self.n=n\n",
    "            \n",
    "        def sum_result(self):\n",
    "            try:\n",
    "                li=[]\n",
    "                mysum=0\n",
    "                for i in range(self.n):\n",
    "                    li.append(int(input(\"Enter Number\")))\n",
    "                for i in range(self.n):\n",
    "                    mysum+=li[i]\n",
    "                print(mysum)\n",
    "            except Exception as e:\n",
    "                lg.info(str(e))\n",
    "            \n",
    "\n",
    "            \n",
    "            \n",
    "            \n",
    "try:\n",
    "    n = int(input(\"Enter Number of elements: \"))\n",
    "    obj  = sum_elements(n)\n",
    "    obj.sum_result()\n",
    "except Exception as e:\n",
    "      lf.info(str(e))"
   ]
  },
  {
   "cell_type": "code",
   "execution_count": 9,
   "metadata": {},
   "outputs": [
    {
     "name": "stdout",
     "output_type": "stream",
     "text": [
      "Enter Number of elements: 3\n",
      "Enter Number: 1\n",
      "Enter Number: 2\n",
      "Enter Number: 3\n",
      "6\n"
     ]
    }
   ],
   "source": [
    "# Q2\n",
    "import logging as lg\n",
    "lg.basicConfig(filename='error.log' , level=lg.INFO)\n",
    "class sum_elements:\n",
    "        def __init__(self,n):\n",
    "            self.n=n\n",
    "            \n",
    "        def fun(self):\n",
    "            try:\n",
    "                li=[]\n",
    "                mysum=1\n",
    "                for i in range(self.n):\n",
    "                    li.append(int(input(\"Enter Number: \")))\n",
    "                for i in range(self.n):\n",
    "                    mysum*=li[i]\n",
    "                print(mysum)\n",
    "            except Exception as e:\n",
    "                lg.info(str(e))         \n",
    "try:\n",
    "    n = int(input(\"Enter Number of elements: \"))\n",
    "    obj  = sum_elements(n)\n",
    "    obj.fun()\n",
    "except Exception as e:\n",
    "      lf.info(str(e))"
   ]
  },
  {
   "cell_type": "code",
   "execution_count": 11,
   "metadata": {},
   "outputs": [
    {
     "name": "stdout",
     "output_type": "stream",
     "text": [
      "Enter Number of elements: 5\n",
      "Enter Number: 1\n",
      "Enter Number: 2\n",
      "Enter Number: -1\n",
      "Enter Number: 0\n",
      "Enter Number: 10\n",
      "-1\n"
     ]
    }
   ],
   "source": [
    "# Q3\n",
    "import logging as lg\n",
    "lg.basicConfig(filename='error.log' , level=lg.INFO)\n",
    "class sum_elements:\n",
    "        def __init__(self,n):\n",
    "            self.n=n\n",
    "            \n",
    "        def fun(self):\n",
    "            try:\n",
    "                li=[]\n",
    "                for i in range(self.n):\n",
    "                    li.append(int(input(\"Enter Number: \")))\n",
    "                print(min(li))\n",
    "            except Exception as e:\n",
    "                lg.info(str(e))      \n",
    "try:\n",
    "    n = int(input(\"Enter Number of elements: \"))\n",
    "    obj  = sum_elements(n)\n",
    "    obj.fun()\n",
    "except Exception as e:\n",
    "      lf.info(str(e))"
   ]
  },
  {
   "cell_type": "code",
   "execution_count": 12,
   "metadata": {},
   "outputs": [
    {
     "name": "stdout",
     "output_type": "stream",
     "text": [
      "Enter Number of elements: 5\n",
      "Enter Number: 10\n",
      "Enter Number: 100\n",
      "Enter Number: 2\n",
      "Enter Number: 20000\n",
      "Enter Number: 399999\n",
      "399999\n"
     ]
    }
   ],
   "source": [
    "# Q4\n",
    "import logging as lg\n",
    "lg.basicConfig(filename='error.log' , level=lg.INFO)\n",
    "class sum_elements:\n",
    "        def __init__(self,n):\n",
    "            self.n=n\n",
    "            \n",
    "        def fun(self):\n",
    "            try:\n",
    "                li=[]\n",
    "                for i in range(self.n):\n",
    "                    li.append(int(input(\"Enter Number: \")))\n",
    "                print(max(li))\n",
    "            except Exception as e:\n",
    "                lg.info(str(e))      \n",
    "try:\n",
    "    n = int(input(\"Enter Number of elements: \"))\n",
    "    obj  = sum_elements(n)\n",
    "    obj.fun()\n",
    "except Exception as e:\n",
    "      lf.info(str(e))"
   ]
  },
  {
   "cell_type": "code",
   "execution_count": 17,
   "metadata": {},
   "outputs": [
    {
     "name": "stdout",
     "output_type": "stream",
     "text": [
      "Enter Number of elements: 3\n",
      "Enter Number: 100\n",
      "Enter Number: 99\n",
      "Enter Number: 23\n",
      "99\n"
     ]
    }
   ],
   "source": [
    "# Q5\n",
    "import logging as lg\n",
    "lg.basicConfig(filename='error.log' , level=lg.INFO)\n",
    "class sum_elements:\n",
    "        def __init__(self,n):\n",
    "            self.n=n\n",
    "            \n",
    "        def fun(self):\n",
    "            try:\n",
    "                li=[]\n",
    "                for i in range(self.n):\n",
    "                    li.append(int(input(\"Enter Number: \")))\n",
    "                li.sort()\n",
    "                print(li[self.n-2])\n",
    "            except Exception as e:\n",
    "                lg.info(str(e))      \n",
    "try:\n",
    "    n = int(input(\"Enter Number of elements: \"))\n",
    "    obj  = sum_elements(n)\n",
    "    obj.fun()\n",
    "except Exception as e:\n",
    "      lf.info(str(e))"
   ]
  },
  {
   "cell_type": "code",
   "execution_count": 20,
   "metadata": {},
   "outputs": [
    {
     "name": "stdout",
     "output_type": "stream",
     "text": [
      "Enter Number of elements: 5\n",
      "Enter Number of largest elements: 2\n",
      "Enter Number: 10000\n",
      "Enter Number: 345\n",
      "Enter Number: 76666\n",
      "Enter Number: 65\n",
      "Enter Number: 2888\n",
      "76666 10000 "
     ]
    }
   ],
   "source": [
    "# Q6\n",
    "import logging as lg\n",
    "lg.basicConfig(filename='error.log' , level=lg.INFO)\n",
    "class sum_elements:\n",
    "        def __init__(self,n,num):\n",
    "            self.n=n\n",
    "            self.num = num\n",
    "            \n",
    "        def fun(self):\n",
    "            try:\n",
    "                li=[]\n",
    "                for i in range(self.n):\n",
    "                    li.append(int(input(\"Enter Number: \")))\n",
    "                li.sort(reverse=True)\n",
    "                for i in range(self.num):\n",
    "                    print(li[i],end=\" \")\n",
    "            except Exception as e:\n",
    "                lg.info(str(e))      \n",
    "try:\n",
    "    n = int(input(\"Enter Number of elements: \"))\n",
    "    num = int(input(\"Enter Number of largest elements: \"))\n",
    "    obj  = sum_elements(n,num)\n",
    "    obj.fun()\n",
    "except Exception as e:\n",
    "      lf.info(str(e))"
   ]
  },
  {
   "cell_type": "code",
   "execution_count": 21,
   "metadata": {},
   "outputs": [
    {
     "name": "stdout",
     "output_type": "stream",
     "text": [
      "Enter Number of elements: 5\n",
      "Enter Number: 10\n",
      "Enter Number: 9\n",
      "Enter Number: 55\n",
      "Enter Number: 22\n",
      "Enter Number: 24\n",
      "10 22 24 "
     ]
    }
   ],
   "source": [
    "# Q7\n",
    "import logging as lg\n",
    "lg.basicConfig(filename='error.log' , level=lg.INFO)\n",
    "class sum_elements:\n",
    "        def __init__(self,n):\n",
    "            self.n=n\n",
    "            \n",
    "            \n",
    "        def fun(self):\n",
    "            try:\n",
    "                li=[]\n",
    "                for i in range(self.n):\n",
    "                    li.append(int(input(\"Enter Number: \")))\n",
    "                for i in range(self.n):\n",
    "                    if li[i]%2==0:\n",
    "                        print(li[i],end=\" \")\n",
    "            except Exception as e:\n",
    "                lg.info(str(e))      \n",
    "try:\n",
    "    n = int(input(\"Enter Number of elements: \"))\n",
    "    obj  = sum_elements(n)\n",
    "    obj.fun()\n",
    "except Exception as e:\n",
    "      lf.info(str(e))"
   ]
  },
  {
   "cell_type": "code",
   "execution_count": 22,
   "metadata": {},
   "outputs": [
    {
     "name": "stdout",
     "output_type": "stream",
     "text": [
      "Enter Number of elements: 5\n",
      "Enter Number: 10\n",
      "Enter Number: 15\n",
      "Enter Number: 20\n",
      "Enter Number: 25\n",
      "Enter Number: 20\n",
      "15 25 "
     ]
    }
   ],
   "source": [
    "# Q8\n",
    "import logging as lg\n",
    "lg.basicConfig(filename='error.log' , level=lg.INFO)\n",
    "class sum_elements:\n",
    "        def __init__(self,n):\n",
    "            self.n=n\n",
    "            \n",
    "            \n",
    "        def fun(self):\n",
    "            try:\n",
    "                li=[]\n",
    "                for i in range(self.n):\n",
    "                    li.append(int(input(\"Enter Number: \")))\n",
    "                for i in range(self.n):\n",
    "                    if li[i]%2!=0:\n",
    "                        print(li[i],end=\" \")\n",
    "            except Exception as e:\n",
    "                lg.info(str(e))      \n",
    "try:\n",
    "    n = int(input(\"Enter Number of elements: \"))\n",
    "    obj  = sum_elements(n)\n",
    "    obj.fun()\n",
    "except Exception as e:\n",
    "      lf.info(str(e))"
   ]
  },
  {
   "cell_type": "code",
   "execution_count": 55,
   "metadata": {},
   "outputs": [
    {
     "name": "stdout",
     "output_type": "stream",
     "text": [
      "Original List =  [5, 6, [], 3, [], [], 9]\n",
      "List after empty list removal =  [5, 6, 3, 9]\n"
     ]
    }
   ],
   "source": [
    "# Q9\n",
    "import logging as lg\n",
    "lg.basicConfig(filename='error.log' , level=lg.INFO)\n",
    "class sum_elements:      \n",
    "        def fun(self):\n",
    "            try:\n",
    "                li = [5, 6, [], 3, [], [], 9]\n",
    "                print(\"Original List = \" , str(li))\n",
    "                my_final_list = [i for i in li if i!=[]]\n",
    "                print(\"List after empty list removal = \" , str(my_final_list))\n",
    "                        \n",
    "            except Exception as e:\n",
    "                lg.info(str(e))\n",
    "        def __str__(self):\n",
    "            return \"Class sum_elements created\"\n",
    "try:\n",
    "    obj  = sum_elements()\n",
    "    obj.fun()\n",
    "except Exception as e:\n",
    "      lg.info(str(e))"
   ]
  },
  {
   "cell_type": "code",
   "execution_count": 56,
   "metadata": {},
   "outputs": [
    {
     "name": "stdout",
     "output_type": "stream",
     "text": [
      "Original List: [4, 8, 2, 10, 15, 18]\n",
      "Copyied List: [4, 8, 2, 10, 15, 18]\n"
     ]
    }
   ],
   "source": [
    "# Q10\n",
    "def Cloning(li1):\n",
    "    li_copy = li1[:]\n",
    "    return li_copy\n",
    "  \n",
    "li1 = [4, 8, 2, 10, 15, 18]\n",
    "li2 = Cloning(li1)\n",
    "print(\"Original List:\", li1)\n",
    "print(\"Copyied List:\", li2)"
   ]
  },
  {
   "cell_type": "code",
   "execution_count": null,
   "metadata": {},
   "outputs": [],
   "source": [
    "# Q10\n",
    "def Count"
   ]
  },
  {
   "cell_type": "code",
   "execution_count": 64,
   "metadata": {},
   "outputs": [
    {
     "name": "stdout",
     "output_type": "stream",
     "text": [
      "4 : 1\n",
      "8 : 0\n",
      "2 : 1\n",
      "10 : 0\n",
      "15 : 0\n",
      "18 : 1\n",
      "4 : 0\n",
      "18 : 0\n",
      "2 : 0\n"
     ]
    }
   ],
   "source": [
    "# Q10\n",
    "def Count_elements(li):\n",
    "    count = 0\n",
    "    for i in range(len(li)):\n",
    "        num = li[i]\n",
    "        for j in range(i+1,len(li)):\n",
    "            if num == li[j]:\n",
    "                count+=1\n",
    "        print(num,\":\",count)\n",
    "        count=0\n",
    "  \n",
    "li = [4, 8, 2, 10, 15, 18 , 4 , 18 , 2]\n",
    "Count_elements(li)"
   ]
  },
  {
   "cell_type": "code",
   "execution_count": null,
   "metadata": {},
   "outputs": [],
   "source": []
  }
 ],
 "metadata": {
  "kernelspec": {
   "display_name": "Python 3",
   "language": "python",
   "name": "python3"
  },
  "language_info": {
   "codemirror_mode": {
    "name": "ipython",
    "version": 3
   },
   "file_extension": ".py",
   "mimetype": "text/x-python",
   "name": "python",
   "nbconvert_exporter": "python",
   "pygments_lexer": "ipython3",
   "version": "3.7.6"
  }
 },
 "nbformat": 4,
 "nbformat_minor": 4
}
