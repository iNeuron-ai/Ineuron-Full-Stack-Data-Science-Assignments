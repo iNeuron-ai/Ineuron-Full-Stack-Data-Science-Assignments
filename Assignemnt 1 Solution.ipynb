{
 "cells": [
  {
   "cell_type": "markdown",
   "metadata": {},
   "source": [
    "# Ans 1"
   ]
  },
  {
   "cell_type": "raw",
   "metadata": {},
   "source": [
    "1) * = operator\n",
    "2) 'hello'= value\n",
    "3) -87.8 = value\n",
    "4) - = operator\n",
    "5) / = operator\n",
    "6) + = operator\n",
    "7) 6 = value"
   ]
  },
  {
   "cell_type": "markdown",
   "metadata": {},
   "source": [
    "# Ans 2"
   ]
  },
  {
   "cell_type": "markdown",
   "metadata": {},
   "source": [
    "<h3>String</h3>\n",
    "It is a datatype\n",
    "<h3>Variable</h3>\n",
    "It stores values be it string,integer,float etc.\n",
    "\n",
    "Eg:s='Umang Pincha'\n",
    "Here, s is variable and 'Umang Pincha' is a string "
   ]
  },
  {
   "cell_type": "markdown",
   "metadata": {},
   "source": [
    "#  Ans 3"
   ]
  },
  {
   "cell_type": "raw",
   "metadata": {},
   "source": [
    "Data forms can be Integer , Float , String , Complex Numbers , boolean...."
   ]
  },
  {
   "cell_type": "markdown",
   "metadata": {},
   "source": [
    "# Ans 4"
   ]
  },
  {
   "cell_type": "raw",
   "metadata": {},
   "source": [
    "Expression just represents something like numbers , strings , instance, any value can be the expression\n",
    "\n",
    "Eg: var=\"Umang\" ----> var is a variable which stores string \"Umang\"\n",
    "    \"Umang\"-----> It is an expression,as nothing is evaluated here"
   ]
  },
  {
   "cell_type": "markdown",
   "metadata": {},
   "source": [
    "# Ans 5 "
   ]
  },
  {
   "cell_type": "raw",
   "metadata": {},
   "source": [
    "spam =  10, here 10 is an expression.\n",
    "spam is a variable which stores integer value 10, so assigning the value 10 to a variable spam is known as declaration of a variable."
   ]
  },
  {
   "cell_type": "markdown",
   "metadata": {},
   "source": [
    "# Ans 6"
   ]
  },
  {
   "cell_type": "code",
   "execution_count": 13,
   "metadata": {},
   "outputs": [
    {
     "name": "stdout",
     "output_type": "stream",
     "text": [
      "22\n"
     ]
    }
   ],
   "source": [
    "bacon = 22\n",
    "bacon+1\n",
    "print(bacon) ## bacon will contain 22"
   ]
  },
  {
   "cell_type": "markdown",
   "metadata": {},
   "source": [
    "# Ans 7"
   ]
  },
  {
   "cell_type": "code",
   "execution_count": 15,
   "metadata": {},
   "outputs": [
    {
     "name": "stdout",
     "output_type": "stream",
     "text": [
      "spamspamspam\n",
      "spamspamspam\n"
     ]
    }
   ],
   "source": [
    "print('spam'+'spamspam')\n",
    "print('spam'*3)"
   ]
  },
  {
   "cell_type": "markdown",
   "metadata": {},
   "source": [
    "# Ans 8"
   ]
  },
  {
   "cell_type": "raw",
   "metadata": {},
   "source": [
    "According to rules in python:\n",
    "A variable name cannot start with a number, tehrefore 100 cannot be the variable name\n",
    "Eg: eggs="
   ]
  },
  {
   "cell_type": "markdown",
   "metadata": {},
   "source": [
    "# Ans 9"
   ]
  },
  {
   "cell_type": "code",
   "execution_count": 5,
   "metadata": {},
   "outputs": [
    {
     "name": "stdout",
     "output_type": "stream",
     "text": [
      "<class 'int'>\n",
      "<class 'int'>\n",
      "<class 'str'>\n"
     ]
    }
   ],
   "source": [
    "# Converting to integer\n",
    "value_int = int(\"10\")\n",
    "print(type(value_int))\n",
    "value_float = float(\"10\")\n",
    "print(type(value))\n",
    "value_string = str(10)\n",
    "print(type(value_string))"
   ]
  },
  {
   "cell_type": "markdown",
   "metadata": {},
   "source": [
    "# Ans 10 "
   ]
  },
  {
   "cell_type": "raw",
   "metadata": {},
   "source": [
    "\"I have eaten\" + 99 + \"burritos.\"\n",
    "In the above example we cannot concatenate string with integer value , string can only be concatinated with string."
   ]
  },
  {
   "cell_type": "code",
   "execution_count": null,
   "metadata": {},
   "outputs": [],
   "source": []
  }
 ],
 "metadata": {
  "kernelspec": {
   "display_name": "Python 3",
   "language": "python",
   "name": "python3"
  },
  "language_info": {
   "codemirror_mode": {
    "name": "ipython",
    "version": 3
   },
   "file_extension": ".py",
   "mimetype": "text/x-python",
   "name": "python",
   "nbconvert_exporter": "python",
   "pygments_lexer": "ipython3",
   "version": "3.7.6"
  }
 },
 "nbformat": 4,
 "nbformat_minor": 4
}
