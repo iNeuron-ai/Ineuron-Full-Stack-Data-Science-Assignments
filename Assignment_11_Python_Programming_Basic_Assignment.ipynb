{
 "cells": [
  {
   "cell_type": "code",
   "execution_count": 3,
   "metadata": {},
   "outputs": [
    {
     "name": "stdout",
     "output_type": "stream",
     "text": [
      "Enter length of list: 3\n",
      "Enter length: 5\n",
      "Enter the string: umang\n",
      "Enter the string: pincha\n",
      "Enter the string: ndjnd\n",
      "pincha\n"
     ]
    }
   ],
   "source": [
    "# Q1\n",
    "import logging as lg\n",
    "lg.basicConfig(filename='error.log' , level=lg.INFO)\n",
    "def fun(n,length):\n",
    "    try:\n",
    "        li=[]\n",
    "        for i in range(n):\n",
    "            li.append(input(\"Enter the string: \"))\n",
    "        for i in li:\n",
    "            if len(i)>length:\n",
    "                print(i)\n",
    "    except Exception as e:\n",
    "        lg.info(str(e))\n",
    "try:\n",
    "    n = int(input(\"Enter length of list: \"))\n",
    "    length = int(input(\"Enter length: \"))\n",
    "    fun(n,length)\n",
    "except Exception as e:\n",
    "    lg.info(str(e))"
   ]
  },
  {
   "cell_type": "code",
   "execution_count": 10,
   "metadata": {},
   "outputs": [
    {
     "name": "stdout",
     "output_type": "stream",
     "text": [
      "Enter string: umangpincha\n",
      "Enter ith character to remove: 4\n",
      "umagpincha\n"
     ]
    }
   ],
   "source": [
    "# Q2\n",
    "import logging as lg\n",
    "lg.basicConfig(filename='error.log' , level=lg.INFO)\n",
    "def remove_char(string , i):\n",
    "    try:\n",
    "        a = string[:i-1]\n",
    "        b = string[i:]\n",
    "        return a+b\n",
    "    except Exception as e:\n",
    "        lg.info(str(e))\n",
    "try:\n",
    "    n = input(\"Enter string: \")\n",
    "    char = int(input(\"Enter ith character to remove: \"))\n",
    "    print(remove_char(n,char))\n",
    "except Exception as e:\n",
    "    lg.info(str(e))"
   ]
  },
  {
   "cell_type": "code",
   "execution_count": 12,
   "metadata": {},
   "outputs": [
    {
     "name": "stdout",
     "output_type": "stream",
     "text": [
      "Enter the string: umang pincha\n",
      "['umang', 'pincha']\n",
      "u-m-a-n-g- -p-i-n-c-h-a\n"
     ]
    }
   ],
   "source": [
    "# Q3\n",
    "def split_string(string):\n",
    "    list_string = string.split(' ')    \n",
    "    return list_string\n",
    "\n",
    "def join_string(list_string):\n",
    "    string = '-'.join(list_string)    \n",
    "    return string\n",
    "\n",
    "try:\n",
    "    string = input(\"Enter the string: \")\n",
    "    print(split_string(string))\n",
    "    print(join_string(string))\n",
    "except Exception as e:\n",
    "    lg.info(str(e))"
   ]
  },
  {
   "cell_type": "code",
   "execution_count": 38,
   "metadata": {},
   "outputs": [
    {
     "name": "stdout",
     "output_type": "stream",
     "text": [
      "Enter the string: umang\n",
      "Not a Binary string\n"
     ]
    }
   ],
   "source": [
    "# Q4\n",
    "def check_binary_string(string):\n",
    "    try:\n",
    "        temp = '01'\n",
    "        flag = 1\n",
    "        for i in string:\n",
    "            if i not in temp:\n",
    "                flag=0\n",
    "                break\n",
    "            else:\n",
    "                continue\n",
    "        if flag:\n",
    "            print(\"Binary string\")\n",
    "        else:\n",
    "            print(\"Not a Binary string\")\n",
    "    except Exception as e:\n",
    "        lg.info(str(e))\n",
    "try:\n",
    "    string = input(\"Enter the string: \")\n",
    "    check_binary_string(string)\n",
    "except Exception as e:\n",
    "    lg.info(str(e))"
   ]
  },
  {
   "cell_type": "code",
   "execution_count": 7,
   "metadata": {},
   "outputs": [
    {
     "name": "stdout",
     "output_type": "stream",
     "text": [
      "enter string1: google facebook ineuron\n",
      "enter string2: facebook apple cisco\n",
      "google ineuron apple cisco \n"
     ]
    }
   ],
   "source": [
    "# Q5\n",
    "def uncommon_words(string1 , string2):\n",
    "    my_string=''\n",
    "    for i in string1:\n",
    "        if i not in string2:\n",
    "            my_string+=i+\" \"\n",
    "    for i in string2:\n",
    "        if i not in string1:\n",
    "            my_string+=i+\" \"\n",
    "    print(my_string)\n",
    "try:\n",
    "    string1 = input(\"enter string1: \")\n",
    "    string2 = input(\"enter string2: \")\n",
    "    uncommon_words(string1.split(' ') , string2.split(' '))\n",
    "except Exception as e:\n",
    "    lg.info(str(e))"
   ]
  },
  {
   "cell_type": "code",
   "execution_count": 10,
   "metadata": {},
   "outputs": [
    {
     "name": "stdout",
     "output_type": "stream",
     "text": [
      "enter string: tutorialpoint\n",
      "{'o', 'i', 't'}\n"
     ]
    }
   ],
   "source": [
    "# Q6\n",
    "def duplicate_characters(string):\n",
    "    try:\n",
    "        duplicate=[]\n",
    "        for char in string:\n",
    "            if string.count(char) > 1:\n",
    "                duplicate.append(char)\n",
    "        print(set(duplicate))\n",
    "    except Exception as e:\n",
    "        lg.info(str(e))\n",
    "try:\n",
    "    string = input(\"enter string: \")\n",
    "    duplicate_characters(string)\n",
    "except Exception as e:\n",
    "    lg.info(str(e))"
   ]
  },
  {
   "cell_type": "code",
   "execution_count": 19,
   "metadata": {},
   "outputs": [
    {
     "name": "stdout",
     "output_type": "stream",
     "text": [
      "Enter the string: umang$%pincha\n",
      "String contains special character\n"
     ]
    }
   ],
   "source": [
    "# Q7\n",
    "\n",
    "def fun(mystring):\n",
    "    try:\n",
    "        special_characters = \"!@#$%^&*()-+?_=,<>/\"\n",
    "        flag = 0\n",
    "        for char in mystring:\n",
    "            if char in special_characters:\n",
    "                flag = 1\n",
    "                break\n",
    "            else:\n",
    "                continue\n",
    "        if flag:\n",
    "            print(\"String contains special character\")\n",
    "        else:\n",
    "            print(\"String donot contains any special character\")\n",
    "    except Exception as e:\n",
    "        lg.info(str(e))\n",
    "\n",
    "try:            \n",
    "    mystring=input(\"Enter the string: \")\n",
    "    fun(mystring)\n",
    "except Exception as e:\n",
    "    lg.info(str(e))\n",
    "    "
   ]
  },
  {
   "cell_type": "code",
   "execution_count": null,
   "metadata": {},
   "outputs": [],
   "source": []
  }
 ],
 "metadata": {
  "kernelspec": {
   "display_name": "Python 3",
   "language": "python",
   "name": "python3"
  },
  "language_info": {
   "codemirror_mode": {
    "name": "ipython",
    "version": 3
   },
   "file_extension": ".py",
   "mimetype": "text/x-python",
   "name": "python",
   "nbconvert_exporter": "python",
   "pygments_lexer": "ipython3",
   "version": "3.7.6"
  }
 },
 "nbformat": 4,
 "nbformat_minor": 4
}
