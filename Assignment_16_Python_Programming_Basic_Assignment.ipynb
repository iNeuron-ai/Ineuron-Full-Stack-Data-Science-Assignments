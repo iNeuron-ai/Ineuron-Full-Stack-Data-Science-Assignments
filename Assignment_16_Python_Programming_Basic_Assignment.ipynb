{
 "cells": [
  {
   "cell_type": "code",
   "execution_count": 13,
   "metadata": {},
   "outputs": [
    {
     "name": "stdout",
     "output_type": "stream",
     "text": [
      "incredible\n",
      "in... in... incredible?\n"
     ]
    }
   ],
   "source": [
    "# Q1\n",
    "import logging as lg\n",
    "lg.basicConfig(filename='error.log' , level=lg.INFO)\n",
    "def shutters(mystr):\n",
    "    try:\n",
    "        if(len(mystr)>2):\n",
    "            print(mystr[0]+mystr[1]+\"...\"+\" \"+mystr[0]+mystr[1]+\"...\"+\" \"+mystr+\"?\")\n",
    "        else:\n",
    "            print(\"String Length is less than 2\")\n",
    "    except Exception as e:\n",
    "        lg.info(e)\n",
    "try:\n",
    "    mystr = input()\n",
    "    shutters(mystr)\n",
    "except Exception as e:\n",
    "    lg.info(e)"
   ]
  },
  {
   "cell_type": "code",
   "execution_count": 24,
   "metadata": {},
   "outputs": [
    {
     "name": "stdout",
     "output_type": "stream",
     "text": [
      "1\n",
      "57.27\n"
     ]
    }
   ],
   "source": [
    "# Q2\n",
    "import logging as lg\n",
    "lg.basicConfig(filename='error.log' , level=lg.INFO)\n",
    "def radians_to_degrees(n):\n",
    "    try:\n",
    "        res = round(1*(180*7)/22,2)\n",
    "        return res\n",
    "    except Exception as e:\n",
    "        lg.info(e)\n",
    "try:\n",
    "    n = int(input())\n",
    "    print(radians_to_degrees(n))\n",
    "except Exception as e:\n",
    "    lg.info(e)"
   ]
  },
  {
   "cell_type": "code",
   "execution_count": 27,
   "metadata": {},
   "outputs": [
    {
     "name": "stdout",
     "output_type": "stream",
     "text": [
      "14\n",
      "True\n"
     ]
    }
   ],
   "source": [
    "# Q3\n",
    "import logging as lg\n",
    "lg.basicConfig(filename='error.log' , level=lg.INFO)\n",
    "def is_curzon(n):\n",
    "    try:\n",
    "        a = ((2**n)+1)\n",
    "        b = ((2*n)+1)\n",
    "        if(a%b==0):\n",
    "            return True\n",
    "        else:\n",
    "            return False\n",
    "    except Exception as e:\n",
    "        lg.info(e)\n",
    "try:\n",
    "    n = int(input())\n",
    "    print(is_curzon(n))\n",
    "except Exception as e:\n",
    "    lg.info(e)"
   ]
  },
  {
   "cell_type": "code",
   "execution_count": 36,
   "metadata": {},
   "outputs": [
    {
     "name": "stdout",
     "output_type": "stream",
     "text": [
      "1\n",
      "2.6\n"
     ]
    }
   ],
   "source": [
    "# Q4\n",
    "import math\n",
    "import logging as lg\n",
    "lg.basicConfig(filename='error.log' , level=lg.INFO)\n",
    "def FindareaHexagon(n):\n",
    "    try:\n",
    "        areaHexa = ((3*math.sqrt(3))/2)*n*n\n",
    "        return(round(areaHexa,2))\n",
    "    except Exception as e:\n",
    "        lg.info(e)\n",
    "try:\n",
    "    n = int(input())\n",
    "    print(FindareaHexagon(n))\n",
    "except Exception as e:\n",
    "    lg.info(e)"
   ]
  },
  {
   "cell_type": "code",
   "execution_count": 41,
   "metadata": {},
   "outputs": [
    {
     "name": "stdout",
     "output_type": "stream",
     "text": [
      "10\n",
      "01010None\n"
     ]
    }
   ],
   "source": [
    "# Q5\n",
    "import logging as lg\n",
    "lg.basicConfig(filename='error.log' , level=lg.INFO)\n",
    "def DecimalToBinary(num):\n",
    "    try:\n",
    "        if num >= 1:\n",
    "            DecimalToBinary(num // 2)\n",
    "        print(num % 2, end = '')\n",
    "    except Exception as e:\n",
    "        lg.info(e)\n",
    "try:\n",
    "    n = int(input())\n",
    "    print(DecimalToBinary(n))\n",
    "except Exception as e:\n",
    "    lg.info(e)"
   ]
  },
  {
   "cell_type": "code",
   "execution_count": null,
   "metadata": {},
   "outputs": [],
   "source": [
    " "
   ]
  }
 ],
 "metadata": {
  "kernelspec": {
   "display_name": "Python 3",
   "language": "python",
   "name": "python3"
  },
  "language_info": {
   "codemirror_mode": {
    "name": "ipython",
    "version": 3
   },
   "file_extension": ".py",
   "mimetype": "text/x-python",
   "name": "python",
   "nbconvert_exporter": "python",
   "pygments_lexer": "ipython3",
   "version": "3.7.6"
  }
 },
 "nbformat": 4,
 "nbformat_minor": 4
}
