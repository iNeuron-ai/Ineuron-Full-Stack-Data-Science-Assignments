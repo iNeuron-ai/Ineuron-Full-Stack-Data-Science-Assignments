{
 "cells": [
  {
   "cell_type": "markdown",
   "metadata": {},
   "source": [
    "# Assignment 2"
   ]
  },
  {
   "cell_type": "code",
   "execution_count": 1,
   "metadata": {},
   "outputs": [
    {
     "name": "stdout",
     "output_type": "stream",
     "text": [
      "Enter Kilometer: 1\n",
      "Meters =  0.62\n"
     ]
    }
   ],
   "source": [
    "# Q1\n",
    "kilometer = int(input(\"Enter Kilometer: \"))\n",
    "meters = kilometer*0.62\n",
    "print(\"Meters = \" , meters)"
   ]
  },
  {
   "cell_type": "code",
   "execution_count": 7,
   "metadata": {},
   "outputs": [
    {
     "name": "stdout",
     "output_type": "stream",
     "text": [
      "Enter celcius: 1\n",
      "33.8\n"
     ]
    }
   ],
   "source": [
    "# Q2\n",
    "celcius = int(input(\"Enter celcius: \"))\n",
    "fahrenheit = (celcius * (9/5)) + 32 \n",
    "print(fahrenheit)"
   ]
  },
  {
   "cell_type": "code",
   "execution_count": 14,
   "metadata": {},
   "outputs": [
    {
     "name": "stdout",
     "output_type": "stream",
     "text": [
      "Enter year = 2021\n",
      "Enter month in number = 4\n",
      "     April 2021\n",
      "Mo Tu We Th Fr Sa Su\n",
      "          1  2  3  4\n",
      " 5  6  7  8  9 10 11\n",
      "12 13 14 15 16 17 18\n",
      "19 20 21 22 23 24 25\n",
      "26 27 28 29 30\n",
      "\n"
     ]
    }
   ],
   "source": [
    "# Q3\n",
    "import calendar\n",
    "yy = int(input(\"Enter year = \"))\n",
    "mm = int(input(\"Enter month in number = \"))\n",
    "print(calendar.month(yy,mm))  \n"
   ]
  },
  {
   "cell_type": "code",
   "execution_count": 10,
   "metadata": {},
   "outputs": [
    {
     "name": "stdout",
     "output_type": "stream",
     "text": [
      "Enter a = 1\n",
      "Enter b = 5\n",
      "Enter c = 6\n",
      "(-2+0j) , (-3+0j)\n"
     ]
    }
   ],
   "source": [
    "#Q4\n",
    "# Formula:\n",
    "# x=-b+-sqrt(b**2-4ac)/2*a\n",
    "import cmath\n",
    "a=int(input(\"Enter a = \"))\n",
    "b=int(input(\"Enter b = \"))\n",
    "c=int(input(\"Enter c = \"))\n",
    "discriminant = (b**2)-(4*a*c)\n",
    "sol1 = (-b+cmath.sqrt(discriminant))/(2*a)\n",
    "sol2 = (-b-cmath.sqrt(discriminant))/(2*a)\n",
    "print(sol1 ,\",\", sol2)"
   ]
  },
  {
   "cell_type": "code",
   "execution_count": 15,
   "metadata": {},
   "outputs": [
    {
     "name": "stdout",
     "output_type": "stream",
     "text": [
      "Enter 1st number : 1\n",
      "Enter 2nd number : 2\n",
      "Before Swap :\n",
      "first_var: 1\n",
      "second_var: 2 \n",
      "After Swap :\n",
      "first_var: 2\n",
      "second_var: 1 \n"
     ]
    }
   ],
   "source": [
    "# Q5\n",
    "first_var = int(input(\"Enter 1st number : \"))\n",
    "second_var = int(input(\"Enter 2nd number : \"))\n",
    "print(\"Before Swap :\\nfirst_var: {}\\nsecond_var: {} \".format(first_var , second_var))\n",
    "first_var,second_var=second_var,first_var\n",
    "print(\"After Swap :\\nfirst_var: {}\\nsecond_var: {} \".format(first_var , second_var))"
   ]
  }
 ],
 "metadata": {
  "kernelspec": {
   "display_name": "Python 3",
   "language": "python",
   "name": "python3"
  },
  "language_info": {
   "codemirror_mode": {
    "name": "ipython",
    "version": 3
   },
   "file_extension": ".py",
   "mimetype": "text/x-python",
   "name": "python",
   "nbconvert_exporter": "python",
   "pygments_lexer": "ipython3",
   "version": "3.7.6"
  }
 },
 "nbformat": 4,
 "nbformat_minor": 4
}
