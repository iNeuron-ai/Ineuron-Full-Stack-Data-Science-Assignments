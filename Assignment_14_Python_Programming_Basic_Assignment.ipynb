{
 "cells": [
  {
   "cell_type": "code",
   "execution_count": 5,
   "metadata": {},
   "outputs": [
    {
     "name": "stdout",
     "output_type": "stream",
     "text": [
      "Enter Number: 14\n",
      "0\n",
      "7\n",
      "14\n"
     ]
    }
   ],
   "source": [
    "# Q1\n",
    "def divisible(n):\n",
    "    i=0\n",
    "    while(i<=n):\n",
    "        if(i%7==0):\n",
    "            yield i\n",
    "        i+=1\n",
    "\n",
    "n=int(input(\"Enter Number: \"))\n",
    "for i in divisible(n):\n",
    "    print(i)\n"
   ]
  },
  {
   "cell_type": "code",
   "execution_count": 38,
   "metadata": {},
   "outputs": [
    {
     "name": "stdout",
     "output_type": "stream",
     "text": [
      "2 : 2\n",
      "3. : 1\n",
      "3? : 1\n",
      "New : 1\n",
      "Python : 5\n",
      "Read : 1\n",
      "and : 1\n",
      "between : 1\n",
      "choosing : 1\n",
      "or : 2\n",
      "to : 1\n"
     ]
    }
   ],
   "source": [
    "# Q2\n",
    "n = input()\n",
    "mylist = n.split(\" \")\n",
    "my_dict = {i:mylist.count(i) for i in mylist}\n",
    "for key,values in sorted(my_dict.items()):\n",
    "    print(key,\":\",values)"
   ]
  },
  {
   "cell_type": "code",
   "execution_count": 45,
   "metadata": {},
   "outputs": [
    {
     "name": "stdout",
     "output_type": "stream",
     "text": [
      "Male\n",
      "Female\n"
     ]
    }
   ],
   "source": [
    "# Q3\n",
    "class Person:\n",
    "    def __str__(self):\n",
    "        return \"Person Class\"\n",
    "    \n",
    "class Male(Person):\n",
    "    def getGender(self):\n",
    "            return \"Male\"\n",
    "        \n",
    "    def __str__(self):\n",
    "        return \"Male Class\"\n",
    "    \n",
    "class Female(Person):\n",
    "    def getGender(self):\n",
    "            return \"Female\"\n",
    "    def __str__(self):\n",
    "        return \"Female Class\"\n",
    "\n",
    "maleOb=Male()\n",
    "femOb=Female()\n",
    "print(maleOb.getGender())\n",
    "print(femOb.getGender())"
   ]
  },
  {
   "cell_type": "code",
   "execution_count": 48,
   "metadata": {},
   "outputs": [
    {
     "name": "stdout",
     "output_type": "stream",
     "text": [
      "I Play Hockey\n",
      "I Play Football\n",
      "I Love Hockey\n",
      "I Love Football\n",
      "You Play Hockey\n",
      "You Play Football\n",
      "You Love Hockey\n",
      "You Love Football\n"
     ]
    }
   ],
   "source": [
    "# Q4\n",
    "subject=[\"I\", \"You\"]\n",
    "verb=[\"Play\", \"Love\"]\n",
    "obj=[\"Hockey\",\"Football\"]\n",
    "sentence_list = [(sub+\" \"+ vb + \" \" + ob) for sub in subject for vb in verb for ob in obj]\n",
    "for sentence in sentence_list:\n",
    "    print (sentence)"
   ]
  },
  {
   "cell_type": "code",
   "execution_count": 58,
   "metadata": {},
   "outputs": [
    {
     "name": "stdout",
     "output_type": "stream",
     "text": [
      "Compressed String:  hello1world!1world!hello3\n"
     ]
    }
   ],
   "source": [
    "# Q5\n",
    "n = \"hello world!hello world!hello world!hello world!\"\n",
    "mylist = n.split(\" \")\n",
    "my_dict = {i:mylist.count(i) for i in mylist}\n",
    "res = \"\"\n",
    "for key,values in sorted(my_dict.items()):\n",
    "    res = res + str(key) + str(values)\n",
    "print(\"Compressed String: \" , res)"
   ]
  },
  {
   "cell_type": "code",
   "execution_count": 10,
   "metadata": {},
   "outputs": [
    {
     "name": "stdout",
     "output_type": "stream",
     "text": [
      "Enter length of list: 3\n",
      "Please Enter 3 Elements: \n",
      "Enter 1 Element: \n",
      "100\n",
      "Enter 2 Element: \n",
      "20\n",
      "Enter 3 Element: \n",
      "34\n",
      "Enter Key you want to search: \n",
      "35555555\n",
      "Key not found\n"
     ]
    }
   ],
   "source": [
    "# Q6\n",
    "import logging as lg\n",
    "lg.basicConfig(filename='error.log' , level=lg.info)\n",
    "class binarySearch:\n",
    "    def search(key):\n",
    "        try:\n",
    "            flag = 0\n",
    "            for i in range(len(li)):\n",
    "                if li[i]==key:\n",
    "                    return i\n",
    "            if(flag==0):\n",
    "                return \"Key not found\"\n",
    "        except Exception as e:\n",
    "            lg.info(e)\n",
    "    def __str__(self):\n",
    "        return \"Binary search Class created\"\n",
    "    \n",
    "try:\n",
    "    n = int(input(\"Enter length of list: \"))\n",
    "    print(\"Please Enter {} Elements: \".format(n))\n",
    "    li=[]\n",
    "    for i in range(1,n+1):\n",
    "        print(\"Enter {} Element: \".format(i))\n",
    "        num = int(input())\n",
    "        li.append(num)\n",
    "    print(\"Enter Key you want to search: \")\n",
    "    key = int(input())\n",
    "    ob=binarySearch\n",
    "    print(ob.search(key))\n",
    "except Exception as e:\n",
    "            lg.info(i)"
   ]
  },
  {
   "cell_type": "markdown",
   "metadata": {},
   "source": []
  }
 ],
 "metadata": {
  "kernelspec": {
   "display_name": "Python 3",
   "language": "python",
   "name": "python3"
  },
  "language_info": {
   "codemirror_mode": {
    "name": "ipython",
    "version": 3
   },
   "file_extension": ".py",
   "mimetype": "text/x-python",
   "name": "python",
   "nbconvert_exporter": "python",
   "pygments_lexer": "ipython3",
   "version": "3.7.6"
  }
 },
 "nbformat": 4,
 "nbformat_minor": 4
}
